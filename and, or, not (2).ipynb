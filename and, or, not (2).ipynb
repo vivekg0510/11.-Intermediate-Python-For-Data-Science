{
 "cells": [
  {
   "cell_type": "markdown",
   "metadata": {},
   "source": [
    "# and, or, not (2)"
   ]
  },
  {
   "cell_type": "raw",
   "metadata": {},
   "source": [
    "To see if you completely understood the boolean operators, have a look at the following piece of Python code:\n",
    "\n",
    "x = 8\n",
    "y = 9\n",
    "not(not(x < 3) and not(y > 14 or y > 10))"
   ]
  },
  {
   "cell_type": "raw",
   "metadata": {},
   "source": [
    "What will the result be if you execute these three commands in the IPython Shell?\n",
    "\n",
    "NB: Notice that not has a higher priority than and and or, it is executed first.\n",
    "\n",
    "Possible Answers\n",
    "-True\n",
    "-False\n",
    "-Running these commands will result in an error."
   ]
  },
  {
   "cell_type": "code",
   "execution_count": 1,
   "metadata": {},
   "outputs": [],
   "source": [
    "# False"
   ]
  }
 ],
 "metadata": {
  "kernelspec": {
   "display_name": "Python 3",
   "language": "python",
   "name": "python3"
  },
  "language_info": {
   "codemirror_mode": {
    "name": "ipython",
    "version": 3
   },
   "file_extension": ".py",
   "mimetype": "text/x-python",
   "name": "python",
   "nbconvert_exporter": "python",
   "pygments_lexer": "ipython3",
   "version": "3.7.1"
  }
 },
 "nbformat": 4,
 "nbformat_minor": 2
}
