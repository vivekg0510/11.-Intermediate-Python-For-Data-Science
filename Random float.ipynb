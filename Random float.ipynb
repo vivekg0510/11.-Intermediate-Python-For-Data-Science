{
 "cells": [
  {
   "cell_type": "markdown",
   "metadata": {},
   "source": [
    "# Random float"
   ]
  },
  {
   "cell_type": "raw",
   "metadata": {},
   "source": [
    "Randomness has many uses in science, art, statistics, cryptography, gaming, gambling, and other fields. You're going to use randomness to simulate a game."
   ]
  },
  {
   "cell_type": "raw",
   "metadata": {},
   "source": [
    "All the functionality you need is contained in the random package, a sub-package of numpy. In this exercise, you'll be using two functions from this package:"
   ]
  },
  {
   "cell_type": "raw",
   "metadata": {},
   "source": [
    "seed(): sets the random seed, so that your results are the reproducible between simulations.\n",
    "As an argument, it takes an integer of your choosing. If you call the function, no output will be generated.seed(): sets the random seed, so that your results are the reproducible between simulations.\n",
    "As an argument, it takes an integer of your choosing. If you call the function, no output will be generated."
   ]
  },
  {
   "cell_type": "raw",
   "metadata": {},
   "source": [
    "rand(): if you don't specify any arguments, it generates a random float between zero and one."
   ]
  },
  {
   "cell_type": "raw",
   "metadata": {},
   "source": [
    "Instructions\n",
    "- Import numpy as np.\n",
    "- Use seed() to set the seed; as an argument, pass 123.\n",
    "- Generate your first random float with rand() and print it out."
   ]
  },
  {
   "cell_type": "code",
   "execution_count": 1,
   "metadata": {},
   "outputs": [],
   "source": [
    "# Import numpy as np\n",
    "import numpy as np"
   ]
  },
  {
   "cell_type": "code",
   "execution_count": 2,
   "metadata": {},
   "outputs": [],
   "source": [
    "# Set the seed\n",
    "np.random.seed(123)"
   ]
  },
  {
   "cell_type": "code",
   "execution_count": 3,
   "metadata": {},
   "outputs": [
    {
     "name": "stdout",
     "output_type": "stream",
     "text": [
      "0.6964691855978616\n"
     ]
    }
   ],
   "source": [
    "# Generate and print random float\n",
    "print(np.random.rand())"
   ]
  }
 ],
 "metadata": {
  "kernelspec": {
   "display_name": "Python 3",
   "language": "python",
   "name": "python3"
  },
  "language_info": {
   "codemirror_mode": {
    "name": "ipython",
    "version": 3
   },
   "file_extension": ".py",
   "mimetype": "text/x-python",
   "name": "python",
   "nbconvert_exporter": "python",
   "pygments_lexer": "ipython3",
   "version": "3.7.1"
  }
 },
 "nbformat": 4,
 "nbformat_minor": 2
}
