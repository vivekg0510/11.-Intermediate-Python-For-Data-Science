{
 "cells": [
  {
   "cell_type": "markdown",
   "metadata": {},
   "source": [
    "# Build a histogram (1)"
   ]
  },
  {
   "cell_type": "raw",
   "metadata": {},
   "source": [
    "life_exp, the list containing data on the life expectancy for different countries in 2007, is available in your Python shell.\n",
    "\n",
    "To see how life expectancy in different countries is distributed, let's create a histogram of life_exp.\n",
    "matplotlib.pyplot is already available as plt."
   ]
  },
  {
   "cell_type": "raw",
   "metadata": {},
   "source": [
    "Instructions\n",
    "- Use plt.hist() to create a histogram of the values in life_exp. Do not specify the number of bins; Python will set the number   of bins to 10 by default for you.\n",
    "- Add plt.show() to actually display the histogram. Can you tell which bin contains the most observations?"
   ]
  },
  {
   "cell_type": "code",
   "execution_count": 1,
   "metadata": {},
   "outputs": [],
   "source": [
    "import matplotlib.pyplot as plt,pandas as pd\n",
    "\n",
    "df = pd.read_csv(\"gapminder.csv\", usecols=['life_exp'])\n",
    "life_exp = df.life_exp"
   ]
  },
  {
   "cell_type": "code",
   "execution_count": 2,
   "metadata": {},
   "outputs": [
    {
     "data": {
      "image/png": "[encoded data removed]",
      "text/plain": [
       "<Figure size 432x288 with 1 Axes>"
      ]
     },
     "metadata": {
      "needs_background": "light"
     },
     "output_type": "display_data"
    }
   ],
   "source": [
    "# Create histogram of life_exp data\n",
    "plt.hist(life_exp)\n",
    "\n",
    "# Display histogram\n",
    "plt.show()"
   ]
  }
 ],
 "metadata": {
  "kernelspec": {
   "display_name": "Python 3",
   "language": "python",
   "name": "python3"
  },
  "language_info": {
   "codemirror_mode": {
    "name": "ipython",
    "version": 3
   },
   "file_extension": ".py",
   "mimetype": "text/x-python",
   "name": "python",
   "nbconvert_exporter": "python",
   "pygments_lexer": "ipython3",
   "version": "3.7.1"
  }
 },
 "nbformat": 4,
 "nbformat_minor": 2
}
