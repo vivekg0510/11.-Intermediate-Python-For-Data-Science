{
 "cells": [
  {
   "cell_type": "markdown",
   "metadata": {},
   "source": [
    "# and, or, not (1)"
   ]
  },
  {
   "cell_type": "raw",
   "metadata": {},
   "source": [
    "A boolean is either 1 or 0, True or False. With boolean operators such as and, or and not, you can combine these booleans to perform more advanced queries on your data."
   ]
  },
  {
   "cell_type": "raw",
   "metadata": {},
   "source": [
    "In the sample code on the right, two variables are defined: my_kitchen and your_kitchen, representing areas."
   ]
  },
  {
   "cell_type": "raw",
   "metadata": {},
   "source": [
    "Instructions\n",
    "- Write Python expressions, wrapped in a print() function, to check whether:\n",
    "    -my_kitchen is bigger than 10 and smaller than 18.\n",
    "    -my_kitchen is smaller than 14 or bigger than 17.\n",
    "    -double the area of my_kitchen is smaller than triple the area of your_kitchen."
   ]
  },
  {
   "cell_type": "code",
   "execution_count": 1,
   "metadata": {},
   "outputs": [],
   "source": [
    "# Define variables\n",
    "my_kitchen = 18.0\n",
    "your_kitchen = 14.0"
   ]
  },
  {
   "cell_type": "code",
   "execution_count": 3,
   "metadata": {},
   "outputs": [
    {
     "name": "stdout",
     "output_type": "stream",
     "text": [
      "False\n"
     ]
    }
   ],
   "source": [
    "#my_kitchen bigger than 10 and smaller than 18?\n",
    "print(my_kitchen > 10 and my_kitchen < 18)"
   ]
  },
  {
   "cell_type": "code",
   "execution_count": 4,
   "metadata": {},
   "outputs": [
    {
     "name": "stdout",
     "output_type": "stream",
     "text": [
      "True\n"
     ]
    }
   ],
   "source": [
    "# my_kitchen smaller than 14 or bigger than 17?\n",
    "print(my_kitchen < 14 or my_kitchen > 17)"
   ]
  },
  {
   "cell_type": "code",
   "execution_count": 5,
   "metadata": {},
   "outputs": [
    {
     "name": "stdout",
     "output_type": "stream",
     "text": [
      "True\n"
     ]
    }
   ],
   "source": [
    "# Double my_kitchen smaller than triple your_kitchen?\n",
    "print((my_kitchen * 2) < (your_kitchen * 3))"
   ]
  }
 ],
 "metadata": {
  "kernelspec": {
   "display_name": "Python 3",
   "language": "python",
   "name": "python3"
  },
  "language_info": {
   "codemirror_mode": {
    "name": "ipython",
    "version": 3
   },
   "file_extension": ".py",
   "mimetype": "text/x-python",
   "name": "python",
   "nbconvert_exporter": "python",
   "pygments_lexer": "ipython3",
   "version": "3.7.1"
  }
 },
 "nbformat": 4,
 "nbformat_minor": 2
}
