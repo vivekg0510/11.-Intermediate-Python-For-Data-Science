{
 "cells": [
  {
   "cell_type": "markdown",
   "metadata": {},
   "source": [
    "# Interpretation"
   ]
  },
  {
   "cell_type": "raw",
   "metadata": {},
   "source": [
    "If you have a look at your colorful plot, it's clear that people live longer in countries with a higher GDP per capita. No high income countries have really short life expectancy, and no low income countries have very long life expectancy. Still, there is a huge difference in life expectancy between countries on the same income level. Most people live in middle income countries where difference in lifespan is huge between countries; depending on how income is distributed and how it is used."
   ]
  },
  {
   "cell_type": "raw",
   "metadata": {},
   "source": [
    "What can you say about the plot?\n",
    "\n",
    "Possible Answers\n",
    "-The countries in blue, corresponding to Africa, have both low life expectancy and a low GDP per capita.\n",
    "-There is a negative correlation between GDP per capita and life expectancy.\n",
    "-China has both a lower GDP per capita and low expectancy compared to India."
   ]
  },
  {
   "cell_type": "code",
   "execution_count": 1,
   "metadata": {},
   "outputs": [],
   "source": [
    "# The countries in blue, corresponding to Africa, have both low life expectancy and a low GDP per capita."
   ]
  }
 ],
 "metadata": {
  "kernelspec": {
   "display_name": "Python 3",
   "language": "python",
   "name": "python3"
  },
  "language_info": {
   "codemirror_mode": {
    "name": "ipython",
    "version": 3
   },
   "file_extension": ".py",
   "mimetype": "text/x-python",
   "name": "python",
   "nbconvert_exporter": "python",
   "pygments_lexer": "ipython3",
   "version": "3.7.1"
  }
 },
 "nbformat": 4,
 "nbformat_minor": 2
}
